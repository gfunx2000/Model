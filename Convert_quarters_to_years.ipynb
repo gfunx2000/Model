{
  "nbformat": 4,
  "nbformat_minor": 0,
  "metadata": {
    "colab": {
      "name": "Convert months to quarters.ipynb",
      "provenance": [],
      "collapsed_sections": [],
      "authorship_tag": "ABX9TyMMp2ytu230h6bhwfYxtzmL",
      "include_colab_link": true
    },
    "kernelspec": {
      "name": "python3",
      "display_name": "Python 3"
    }
  },
  "cells": [
    {
      "cell_type": "markdown",
      "metadata": {
        "id": "view-in-github",
        "colab_type": "text"
      },
      "source": [
        "<a href=\"https://colab.research.google.com/github/gfunx2000/Model/blob/master/Convert_quarters_to_years.ipynb\" target=\"_parent\"><img src=\"https://colab.research.google.com/assets/colab-badge.svg\" alt=\"Open In Colab\"/></a>"
      ]
    },
    {
      "cell_type": "code",
      "metadata": {
        "id": "ZQCYiHvhvIl-",
        "colab_type": "code",
        "colab": {
          "base_uri": "https://localhost:8080/",
          "height": 34
        },
        "outputId": "7c61f0e3-c6fa-436b-c3f9-d9749109ae79"
      },
      "source": [
        "# This can be modified to convert quarters to years for conventional modeling\n",
        "\n",
        "# Create a months list, as well as an index, and set the quarter to 0\n",
        "months = [100, 100, 150, 250, 300, 10, 20]\n",
        "quarter = 0\n",
        "quarters = []\n",
        "index = 1\n",
        "\n",
        "# Create for loop for quarter, print result, and increment the index\n",
        "for sales in months:\n",
        "    quarter += sales\n",
        "    if index % 3 == 0 or index == len(months):\n",
        "        quarters.append(quarter)\n",
        "        quarter = 0\n",
        "    index = index + 1\n",
        "    \n",
        "print(\"The quarter totals are Q1: {}, Q2: {}, Q3: {}\".format(quarters[0], quarters[1], quarters[2]))"
      ],
      "execution_count": 1,
      "outputs": [
        {
          "output_type": "stream",
          "text": [
            "The quarter totals are Q1: 350, Q2: 560, Q3: 20\n"
          ],
          "name": "stdout"
        }
      ]
    },
    {
      "cell_type": "code",
      "metadata": {
        "id": "zqycDBxWvWcW",
        "colab_type": "code",
        "colab": {
          "base_uri": "https://localhost:8080/",
          "height": 34
        },
        "outputId": "fd714a2b-f00d-40b5-f523-44ef2943cc81"
      },
      "source": [
        "# This is the base for converting quarters to years\n",
        "# It needs to be cleaned up and added to to automate more of the process, make the numbers of years dynamic, and add in the correct FY\n",
        "\n",
        "# Create a years list, as well as an index, and set the year to 0\n",
        "quarters = [100, 100, 150, 250, 300, 10, 20]\n",
        "year = 0\n",
        "years = []\n",
        "index = 1\n",
        "\n",
        "# Create for loop for quarter, print result, and increment the index\n",
        "for revenue in quarters:\n",
        "    year += revenue\n",
        "    if index % 3 == 0 or index == len(quarters):\n",
        "      years.append(year)\n",
        "      year = 0\n",
        "    index = index + 1\n",
        "    \n",
        "print(\"The annual totals are FY1: {}, FY2: {}, FY3: {}\".format(years[0], years[1], years[2]))"
      ],
      "execution_count": 4,
      "outputs": [
        {
          "output_type": "stream",
          "text": [
            "The annual totals are FY1: 350, FY2: 560, FY3: 20\n"
          ],
          "name": "stdout"
        }
      ]
    },
    {
      "cell_type": "code",
      "metadata": {
        "id": "z2UmfG_ovxgT",
        "colab_type": "code",
        "colab": {}
      },
      "source": [
        ""
      ],
      "execution_count": null,
      "outputs": []
    }
  ]
}