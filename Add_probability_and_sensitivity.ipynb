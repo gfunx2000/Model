{
  "nbformat": 4,
  "nbformat_minor": 0,
  "metadata": {
    "colab": {
      "name": "Add probability and sensitivity.ipynb",
      "provenance": [],
      "authorship_tag": "ABX9TyO/A4I5aQQvK6Tn1JClmqfw",
      "include_colab_link": true
    },
    "kernelspec": {
      "name": "python3",
      "display_name": "Python 3"
    }
  },
  "cells": [
    {
      "cell_type": "markdown",
      "metadata": {
        "id": "view-in-github",
        "colab_type": "text"
      },
      "source": [
        "<a href=\"https://colab.research.google.com/github/gfunx2000/Model/blob/master/Add_probability_and_sensitivity.ipynb\" target=\"_parent\"><img src=\"https://colab.research.google.com/assets/colab-badge.svg\" alt=\"Open In Colab\"/></a>"
      ]
    },
    {
      "cell_type": "code",
      "metadata": {
        "id": "vWdM3v2geYzy",
        "colab_type": "code",
        "colab": {}
      },
      "source": [
        "#Use a list with pairs to enter weighted probabiltiy. Easy way to enter?\n",
        "\n",
        "# Create the combined list for sales and probability\n",
        "sales_probability = ['0|0.05', '200|0.1', '300|0.4', '500|0.2', '800|0.25'] \n",
        "weighted_probability = 0\n",
        "\n",
        "# Create a for loop to calculate the weighted probability\n",
        "for pair in sales_probability:\n",
        "    parts = pair.split('|')\n",
        "    weighted_probability += float(parts[0]) * float(parts[1])\n",
        "\n",
        "# Print the weighted probability result\n",
        "print(\"The weighted probability is {}.\".format(weighted_probability))"
      ],
      "execution_count": null,
      "outputs": []
    }
  ]
}