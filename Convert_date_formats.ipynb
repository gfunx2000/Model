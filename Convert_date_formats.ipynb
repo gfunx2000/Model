{
  "nbformat": 4,
  "nbformat_minor": 0,
  "metadata": {
    "colab": {
      "name": "Convert date formats.ipynb",
      "provenance": [],
      "collapsed_sections": [],
      "authorship_tag": "ABX9TyOZsaYdDinzgpTixLJ7FG1B",
      "include_colab_link": true
    },
    "kernelspec": {
      "name": "python3",
      "display_name": "Python 3"
    }
  },
  "cells": [
    {
      "cell_type": "markdown",
      "metadata": {
        "id": "view-in-github",
        "colab_type": "text"
      },
      "source": [
        "<a href=\"https://colab.research.google.com/github/gfunx2000/Model/blob/master/Convert_date_formats.ipynb\" target=\"_parent\"><img src=\"https://colab.research.google.com/assets/colab-badge.svg\" alt=\"Open In Colab\"/></a>"
      ]
    },
    {
      "cell_type": "code",
      "metadata": {
        "id": "JtxAvWsb1gZ1",
        "colab_type": "code",
        "colab": {
          "base_uri": "https://localhost:8080/",
          "height": 51
        },
        "outputId": "e4b814b3-4c39-4792-8ab6-6d73bf70fc16"
      },
      "source": [
        "# Use datetime library to strip elements of a date into the format we want\n",
        "\n",
        "# Import the datetime python library\n",
        "from datetime import datetime\n",
        "\n",
        "# Create a dt_object to convert the first date and print the month result\n",
        "dt_object1 = datetime.strptime('14/02/2018', '%d/%m/%Y')\n",
        "print(dt_object1)\n",
        "\n",
        "# Create a dt_object to convert the second date and print the month result\n",
        "dt_object2 = datetime.strptime('2 March 2018', '%d %B %Y')\n",
        "print(dt_object2)"
      ],
      "execution_count": 1,
      "outputs": [
        {
          "output_type": "stream",
          "text": [
            "2018-02-14 00:00:00\n",
            "2018-03-02 00:00:00\n"
          ],
          "name": "stdout"
        }
      ]
    },
    {
      "cell_type": "code",
      "metadata": {
        "id": "E-Mz5g4i1mGx",
        "colab_type": "code",
        "colab": {
          "base_uri": "https://localhost:8080/",
          "height": 34
        },
        "outputId": "989b01ea-c820-4abb-a1b7-b7fee1815411"
      },
      "source": [
        "#Split dates\n",
        "\n",
        "# Set the variable for the datetime to convert\n",
        "dt = '14/02/2018'\n",
        "\n",
        "# Create the dictionary for the month values\n",
        "mm = {'01': 'January', '02': 'February', '03': 'March'}\n",
        "\n",
        "# Split the dt string into the different parts\n",
        "day, month, year = dt.split('/')\n",
        "\n",
        "# Print the concatenated date string\n",
        "print(day + ' ' + mm[month] + ' ' + year)"
      ],
      "execution_count": 2,
      "outputs": [
        {
          "output_type": "stream",
          "text": [
            "14 February 2018\n"
          ],
          "name": "stdout"
        }
      ]
    },
    {
      "cell_type": "code",
      "metadata": {
        "id": "KCSiNTBm14_4",
        "colab_type": "code",
        "colab": {}
      },
      "source": [
        ""
      ],
      "execution_count": null,
      "outputs": []
    }
  ]
}